{
 "cells": [
  {
   "cell_type": "code",
   "execution_count": 1,
   "id": "a767d9ce-0fb3-4ea6-8426-a79032cae9ec",
   "metadata": {},
   "outputs": [
    {
     "name": "stdout",
     "output_type": "stream",
     "text": [
      "First 5 rows of the dataset:\n",
      "                                                text  emotion\n",
      "0                            i didnt feel humiliated  sadness\n",
      "1  i can go from feeling so hopeless to so damned...  sadness\n",
      "2   im grabbing a minute to post i feel greedy wrong    anger\n",
      "3  i am ever feeling nostalgic about the fireplac...     love\n",
      "4                               i am feeling grouchy    anger\n",
      "\n",
      "Count of each emotion:\n",
      "emotion\n",
      "joy         5362\n",
      "sadness     4666\n",
      "anger       2159\n",
      "fear        1937\n",
      "love        1304\n",
      "surprise     572\n",
      "Name: count, dtype: int64\n",
      "\n",
      "Dataset after cleaning:\n",
      "                                                text  emotion\n",
      "0                            i didnt feel humiliated  sadness\n",
      "1  i can go from feeling so hopeless to so damned...  sadness\n",
      "2   im grabbing a minute to post i feel greedy wrong    anger\n",
      "3  i am ever feeling nostalgic about the fireplac...     love\n",
      "4                               i am feeling grouchy    anger\n"
     ]
    }
   ],
   "source": [
    "# Step 1: Import libraries\n",
    "import pandas as pd\n",
    "\n",
    "# Step 2: Load the dataset\n",
    "# Make sure train.txt is in your notebook folder\n",
    "train_data = pd.read_csv(\"train.txt\", sep=\";\", names=[\"text\", \"emotion\"])\n",
    "\n",
    "# Step 3: Quick look at the data\n",
    "print(\"First 5 rows of the dataset:\")\n",
    "print(train_data.head())\n",
    "\n",
    "print(\"\\nCount of each emotion:\")\n",
    "print(train_data['emotion'].value_counts())\n",
    "\n",
    "# Step 4: Basic cleaning (optional for small dataset)\n",
    "train_data = train_data.dropna()          # Remove missing values\n",
    "train_data['text'] = train_data['text'].str.lower()   # Lowercase all text\n",
    "\n",
    "print(\"\\nDataset after cleaning:\")\n",
    "print(train_data.head())"
   ]
  },
  {
   "cell_type": "code",
   "execution_count": 2,
   "id": "f7f5e0a2-291d-45d8-8b65-3fd24f572413",
   "metadata": {},
   "outputs": [
    {
     "name": "stdout",
     "output_type": "stream",
     "text": [
      "Shape of training data: (14400, 14319)\n",
      "Shape of validation data: (1600, 14319)\n"
     ]
    }
   ],
   "source": [
    "# Step 2: Import required libraries\n",
    "from sklearn.feature_extraction.text import CountVectorizer\n",
    "from sklearn.model_selection import train_test_split\n",
    "\n",
    "# Step 2a: Split data into features (X) and labels (y)\n",
    "X = train_data['text']       # Text column\n",
    "y = train_data['emotion']    # Emotion labels\n",
    "\n",
    "# Step 2b: Split into training and validation set (optional small validation)\n",
    "X_train, X_val, y_train, y_val = train_test_split(X, y, test_size=0.1, random_state=42)\n",
    "\n",
    "# Step 2c: Convert text into numbers using CountVectorizer\n",
    "vectorizer = CountVectorizer()       # Bag-of-words representation\n",
    "X_train_vect = vectorizer.fit_transform(X_train)\n",
    "X_val_vect = vectorizer.transform(X_val)\n",
    "\n",
    "# Step 2d: Check shapes\n",
    "print(\"Shape of training data:\", X_train_vect.shape)\n",
    "print(\"Shape of validation data:\", X_val_vect.shape)"
   ]
  },
  {
   "cell_type": "code",
   "execution_count": 6,
   "id": "3bcc595c-c2b3-4fad-8253-b112074bf8da",
   "metadata": {},
   "outputs": [
    {
     "name": "stdout",
     "output_type": "stream",
     "text": [
      "Accuracy: 0.75\n",
      "              precision    recall  f1-score   support\n",
      "\n",
      "       anger       0.91      0.59      0.72       217\n",
      "        fear       0.83      0.53      0.65       174\n",
      "         joy       0.69      0.96      0.80       503\n",
      "        love       0.89      0.21      0.35       159\n",
      "     sadness       0.76      0.94      0.84       494\n",
      "    surprise       1.00      0.02      0.04        53\n",
      "\n",
      "    accuracy                           0.75      1600\n",
      "   macro avg       0.85      0.54      0.56      1600\n",
      "weighted avg       0.79      0.75      0.71      1600\n",
      "\n"
     ]
    }
   ],
   "source": [
    "from sklearn.naive_bayes import MultinomialNB\n",
    "from sklearn.metrics import accuracy_score, classification_report\n",
    "\n",
    "model = MultinomialNB()\n",
    "model.fit(X_train_vect, y_train)\n",
    "y_pred = model.predict(X_val_vect)\n",
    "\n",
    "print(\"Accuracy:\", accuracy_score(y_val, y_pred))\n",
    "print(classification_report(y_val, y_pred))"
   ]
  },
  {
   "cell_type": "code",
   "execution_count": 7,
   "id": "7e1c6e3d-f8a5-4529-bfc0-d072d66a8d03",
   "metadata": {
    "scrolled": true
   },
   "outputs": [
    {
     "data": {
      "application/vnd.jupyter.widget-view+json": {
       "model_id": "624848b774634691895c532420fc92df",
       "version_major": 2,
       "version_minor": 0
      },
      "text/plain": [
       "Textarea(value='', description='Input:', layout=Layout(height='100px', width='70%'), placeholder='Type your se…"
      ]
     },
     "metadata": {},
     "output_type": "display_data"
    },
    {
     "data": {
      "application/vnd.jupyter.widget-view+json": {
       "model_id": "a6bfdcb756684ba6942c2847fa1fc858",
       "version_major": 2,
       "version_minor": 0
      },
      "text/plain": [
       "Button(button_style='success', description='Predict Emotion', style=ButtonStyle(), tooltip='Click to predict a…"
      ]
     },
     "metadata": {},
     "output_type": "display_data"
    },
    {
     "data": {
      "application/vnd.jupyter.widget-view+json": {
       "model_id": "b8b82514e07843dcb696585d35633386",
       "version_major": 2,
       "version_minor": 0
      },
      "text/plain": [
       "Output()"
      ]
     },
     "metadata": {},
     "output_type": "display_data"
    }
   ],
   "source": [
    "# Step 4: Input Box + Auto Save Predictions\n",
    "# ===============================\n",
    "\n",
    "import ipywidgets as widgets\n",
    "from IPython.display import display\n",
    "import pandas as pd\n",
    "import warnings\n",
    "from fpdf import FPDF\n",
    "import os\n",
    "\n",
    "warnings.filterwarnings('ignore')\n",
    "\n",
    "# Output area\n",
    "output = widgets.Output()\n",
    "\n",
    "# Storage file path\n",
    "csv_filename = \"emotion_predictions.csv\"\n",
    "pdf_filename = \"emotion_predictions.pdf\"\n",
    "\n",
    "# Initialize results list\n",
    "results = []\n",
    "\n",
    "# Load previous data if exists\n",
    "if os.path.exists(csv_filename):\n",
    "    old_data = pd.read_csv(csv_filename)\n",
    "    results = old_data.to_dict(orient='records')\n",
    "\n",
    "# ===============================\n",
    "# Prediction Function (uses model + vectorizer)\n",
    "# ===============================\n",
    "def predict_emotion(text):\n",
    "    text = [text.lower()]\n",
    "    text_vect = vectorizer.transform(text)\n",
    "    prediction = model.predict(text_vect)\n",
    "    return prediction[0]\n",
    "\n",
    "# ===============================\n",
    "# On Predict Button Click\n",
    "# ===============================\n",
    "def on_button_click(b):\n",
    "    sentence = text_area.value.strip()\n",
    "    if sentence == \"\":\n",
    "        return\n",
    "\n",
    "    emotion = predict_emotion(sentence)\n",
    "    results.append({\"Sentence\": sentence, \"Predicted Emotion\": emotion})\n",
    "\n",
    "    # Convert to DataFrame\n",
    "    df_results = pd.DataFrame(results)\n",
    "\n",
    "    # Auto-save to CSV\n",
    "    df_results.to_csv(csv_filename, index=False)\n",
    "\n",
    "    # Also auto-save to PDF (overwrite for simplicity)\n",
    "    pdf = FPDF()\n",
    "    pdf.add_page()\n",
    "    pdf.set_font(\"Arial\", size=12)\n",
    "    pdf.cell(200, 10, txt=\"Emotion Predictions\", ln=True, align='C')\n",
    "    pdf.ln(10)\n",
    "\n",
    "    for idx, row in df_results.iterrows():\n",
    "        text_line = f\"Sentence: {row['Sentence']}\\nPredicted Emotion: {row['Predicted Emotion']}\\n\"\n",
    "        pdf.multi_cell(0, 10, txt=text_line)\n",
    "        pdf.ln(2)\n",
    "\n",
    "    pdf.output(pdf_filename)\n",
    "\n",
    "    # Display DataFrame output\n",
    "    with output:\n",
    "        output.clear_output(wait=True)\n",
    "        display(df_results)\n",
    "        print(f\"✅ Prediction saved automatically to {csv_filename} and {pdf_filename}\")\n",
    "\n",
    "# ===============================\n",
    "# Widgets\n",
    "# ===============================\n",
    "text_area = widgets.Textarea(\n",
    "    value='',\n",
    "    placeholder='Type your sentence here',\n",
    "    description='Input:',\n",
    "    layout=widgets.Layout(width='70%', height='100px')\n",
    ")\n",
    "\n",
    "predict_button = widgets.Button(\n",
    "    description=\"Predict Emotion\",\n",
    "    button_style='success',\n",
    "    tooltip=\"Click to predict and auto-save result\"\n",
    ")\n",
    "predict_button.on_click(on_button_click)\n",
    "\n",
    "# ===============================\n",
    "# Display\n",
    "# ===============================\n",
    "display(text_area, predict_button, output)"
   ]
  },
  {
   "cell_type": "code",
   "execution_count": null,
   "id": "32c68608-7fca-4a39-b3e1-262c90fa301d",
   "metadata": {},
   "outputs": [],
   "source": []
  },
  {
   "cell_type": "markdown",
   "id": "41088b9d-fa25-4cb0-b99f-6067749bc8ac",
   "metadata": {},
   "source": []
  },
  {
   "cell_type": "code",
   "execution_count": null,
   "id": "6c9d7c84-a48c-404c-9a42-b263c693448e",
   "metadata": {},
   "outputs": [],
   "source": []
  }
 ],
 "metadata": {
  "kernelspec": {
   "display_name": "Python 3 (ipykernel)",
   "language": "python",
   "name": "python3"
  },
  "language_info": {
   "codemirror_mode": {
    "name": "ipython",
    "version": 3
   },
   "file_extension": ".py",
   "mimetype": "text/x-python",
   "name": "python",
   "nbconvert_exporter": "python",
   "pygments_lexer": "ipython3",
   "version": "3.13.3"
  }
 },
 "nbformat": 4,
 "nbformat_minor": 5
}
